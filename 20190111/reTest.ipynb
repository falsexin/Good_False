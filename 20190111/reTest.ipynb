{
 "cells": [
  {
   "cell_type": "code",
   "execution_count": 2,
   "metadata": {},
   "outputs": [],
   "source": [
    "import re"
   ]
  },
  {
   "cell_type": "code",
   "execution_count": 3,
   "metadata": {},
   "outputs": [
    {
     "name": "stdout",
     "output_type": "stream",
     "text": [
      "a\n"
     ]
    }
   ],
   "source": [
    "# .匹配任意字符(除了\\n)\n",
    "ret = re.match(\".\",\"abc\")\n",
    "print(ret.group())"
   ]
  },
  {
   "cell_type": "code",
   "execution_count": 9,
   "metadata": {},
   "outputs": [
    {
     "data": {
      "text/plain": [
       "'a'"
      ]
     },
     "execution_count": 9,
     "metadata": {},
     "output_type": "execute_result"
    }
   ],
   "source": [
    "#匹配列举的字符\n",
    "ret = re.match(\"[a-zA-Z0-9]\",\"ahello Python\")\n",
    "ret.group()"
   ]
  },
  {
   "cell_type": "code",
   "execution_count": 13,
   "metadata": {},
   "outputs": [
    {
     "name": "stdout",
     "output_type": "stream",
     "text": [
      "嫦娥6号\n"
     ]
    }
   ],
   "source": [
    "#匹配数字\n",
    "ret = re.match(\"嫦娥\\d号\",\"嫦娥6号发射成功\")\n",
    "print(ret.group())"
   ]
  },
  {
   "cell_type": "code",
   "execution_count": 14,
   "metadata": {},
   "outputs": [
    {
     "name": "stdout",
     "output_type": "stream",
     "text": [
      "7\n"
     ]
    }
   ],
   "source": [
    "ret = re.match(\"[0-9]\",\"7Hello Python\")\n",
    "print(ret.group())"
   ]
  },
  {
   "cell_type": "code",
   "execution_count": 15,
   "metadata": {},
   "outputs": [
    {
     "data": {
      "text/plain": [
       "'hello'"
      ]
     },
     "execution_count": 15,
     "metadata": {},
     "output_type": "execute_result"
    }
   ],
   "source": [
    "#匹配单词字符\n",
    "ret = re.match('\\w\\w\\w\\w\\w','hello world')\n",
    "ret.group()"
   ]
  },
  {
   "cell_type": "code",
   "execution_count": 18,
   "metadata": {},
   "outputs": [
    {
     "data": {
      "text/plain": [
       "'China'"
      ]
     },
     "execution_count": 18,
     "metadata": {},
     "output_type": "execute_result"
    }
   ],
   "source": [
    "#匹配一个字符0到多次\n",
    "ret = re.match(\"[A-Z][a-z]*\",\"China\")\n",
    "ret.group()"
   ]
  },
  {
   "cell_type": "code",
   "execution_count": 21,
   "metadata": {},
   "outputs": [
    {
     "data": {
      "text/plain": [
       "'__init'"
      ]
     },
     "execution_count": 21,
     "metadata": {},
     "output_type": "execute_result"
    }
   ],
   "source": [
    "#匹配前一个元字符1到多次\n",
    "ret = re.match(\"[a-zA-Z_]+\",\"__init__\")\n",
    "ret.group()"
   ]
  },
  {
   "cell_type": "code",
   "execution_count": 27,
   "metadata": {},
   "outputs": [
    {
     "data": {
      "text/plain": [
       "'35'"
      ]
     },
     "execution_count": 27,
     "metadata": {},
     "output_type": "execute_result"
    }
   ],
   "source": [
    "#匹配前一个元字符0到1次\n",
    "ret = re.match(\"[1-9]?[0-9]\",\"356\")\n",
    "ret.group()"
   ]
  },
  {
   "cell_type": "code",
   "execution_count": 32,
   "metadata": {},
   "outputs": [
    {
     "name": "stdout",
     "output_type": "stream",
     "text": [
      "2018-07-01\n",
      "2018-07-01\n",
      "2018-07-\n",
      "2018-07-01\n"
     ]
    }
   ],
   "source": [
    "#匹配前一个元字符m到n次\n",
    "ret = re.match(\"[a-zA-Z0-9_-]{8,20}\",\"2018-07-01\")\n",
    "print(ret.group())\n",
    "ret = re.match(\"[a-zA-Z0-9_-]{8,}\",\"2018-07-01\")\n",
    "print(ret.group())\n",
    "ret = re.match(\"[a-zA-Z0-9_-]{8}\",\"2018-07-01\")\n",
    "print(ret.group())\n",
    "ret = re.match(\"[a-zA-Z0-9_-]{,20}\",\"2018-07-01\")\n",
    "print(ret.group())\n",
    "\n"
   ]
  },
  {
   "cell_type": "code",
   "execution_count": 34,
   "metadata": {},
   "outputs": [
    {
     "data": {
      "text/plain": [
       "'xiaoWang@163.com'"
      ]
     },
     "execution_count": 34,
     "metadata": {},
     "output_type": "execute_result"
    }
   ],
   "source": [
    "# 通过$来确定末尾\n",
    "ret = re.match(\"^[\\w]{4,20}@163\\.com$\", \"xiaoWang@163.com\")\n",
    "ret.group()"
   ]
  },
  {
   "cell_type": "code",
   "execution_count": 37,
   "metadata": {},
   "outputs": [
    {
     "data": {
      "text/plain": [
       "'<html><h1>www.baidu.com</h1></html>'"
      ]
     },
     "execution_count": 37,
     "metadata": {},
     "output_type": "execute_result"
    }
   ],
   "source": [
    "#引用分组num匹配到的字符串\n",
    "ret = re.match(r\"<(\\w+)><(\\w+)>.*</\\2></\\1>\", \"<html><h1>www.baidu.com</h1></html>\")\n",
    "ret.group()"
   ]
  },
  {
   "cell_type": "code",
   "execution_count": 40,
   "metadata": {},
   "outputs": [
    {
     "data": {
      "text/plain": [
       "'<html><h1>www.baidu.com</h1></html>'"
      ]
     },
     "execution_count": 40,
     "metadata": {},
     "output_type": "execute_result"
    }
   ],
   "source": [
    "# 命名分组，引用别名为name的分组匹配到的字符串\n",
    "ret = re.match(\"<(?P<name1>\\w+)><(?P<name2>\\w+)>.*</(?P=name2)></(?P=name1)>\", \"<html><h1>www.baidu.com</h1></html>\")\n",
    "ret.group()"
   ]
  },
  {
   "cell_type": "code",
   "execution_count": 45,
   "metadata": {},
   "outputs": [
    {
     "name": "stdout",
     "output_type": "stream",
     "text": [
      "Hello World!\n"
     ]
    }
   ],
   "source": [
    "s = 'Hello World!'\n",
    "regex = re.compile(\"hello world!\", re.I)\n",
    "print(regex.match(s).group())"
   ]
  },
  {
   "cell_type": "code",
   "execution_count": 23,
   "metadata": {},
   "outputs": [
    {
     "name": "stdout",
     "output_type": "stream",
     "text": [
      "['first line', 'second line', 'third line']\n",
      "first line\n",
      "['first line\\nsecond line\\nthird line']\n",
      "first line\n",
      "second line\n",
      "third line\n"
     ]
    }
   ],
   "source": [
    "#匹配换行\n",
    "s = '''first line\n",
    "second line\n",
    "third line'''\n",
    "#\n",
    "regex = re.compile(\".+\")\n",
    "print(regex.findall(s))\n",
    "print(regex.search(s).group())\n",
    "\n",
    "# re.S\n",
    "regex_dotall = re.compile(\".+\", re.S)\n",
    "print(regex_dotall.findall(s))\n",
    "print(regex_dotall.search(s).group())"
   ]
  },
  {
   "cell_type": "code",
   "execution_count": null,
   "metadata": {},
   "outputs": [],
   "source": []
  }
 ],
 "metadata": {
  "kernelspec": {
   "display_name": "Python 3",
   "language": "python",
   "name": "python3"
  },
  "language_info": {
   "codemirror_mode": {
    "name": "ipython",
    "version": 3
   },
   "file_extension": ".py",
   "mimetype": "text/x-python",
   "name": "python",
   "nbconvert_exporter": "python",
   "pygments_lexer": "ipython3",
   "version": "3.5.3"
  }
 },
 "nbformat": 4,
 "nbformat_minor": 2
}
